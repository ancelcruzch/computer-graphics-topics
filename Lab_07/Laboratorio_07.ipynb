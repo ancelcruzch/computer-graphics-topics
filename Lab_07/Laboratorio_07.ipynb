{
  "nbformat": 4,
  "nbformat_minor": 0,
  "metadata": {
    "colab": {
      "provenance": []
    },
    "kernelspec": {
      "name": "python3",
      "display_name": "Python 3"
    },
    "language_info": {
      "name": "python"
    }
  },
  "cells": [
    {
      "cell_type": "code",
      "source": [
        "# Import required libraries\n",
        "import tensorflow as tf\n",
        "from tensorflow.keras import layers, models\n",
        "import numpy as np\n",
        "import pandas as pd\n",
        "import matplotlib.pyplot as plt\n",
        "from sklearn.model_selection import train_test_split\n",
        "from sklearn.utils.class_weight import compute_class_weight\n",
        "from sklearn.metrics import confusion_matrix\n",
        "import seaborn as sns\n"
      ],
      "metadata": {
        "id": "LllgsVteirj-"
      },
      "execution_count": 52,
      "outputs": []
    },
    {
      "cell_type": "code",
      "source": [
        "def load_mnist(path, kind='train'):\n",
        "    \"\"\"Load Fashion-MNIST data from CSV files.\"\"\"\n",
        "    if kind == 'train':\n",
        "        df = pd.read_csv(f'{path}/fashion-mnist_train.csv')\n",
        "    else:  # 't10k'\n",
        "        df = pd.read_csv(f'{path}/fashion-mnist_test.csv')\n",
        "\n",
        "    # Separate labels from image data\n",
        "    y = df['label'].values\n",
        "    X = df.drop('label', axis=1).values\n",
        "    return X, y\n",
        "\n",
        "# Load the dataset\n",
        "X_train, y_train = load_mnist('data/fashion_mnist', kind='train')\n",
        "X_test, y_test = load_mnist('data/fashion_mnist', kind='t10k')\n",
        "\n",
        "# Normalize pixel values to the range 0-1\n",
        "X_train = X_train / 255.0\n",
        "X_test = X_test / 255.0\n",
        "\n",
        "# Reshape data for neural network (28x28 -> 784)\n",
        "X_train = X_train.reshape(-1, 28, 28, 1)\n",
        "X_test = X_test.reshape(-1, 28, 28, 1)\n",
        "\n",
        "print(f\"Training set shape: {X_train.shape}, Test set shape: {X_test.shape}\")\n"
      ],
      "metadata": {
        "colab": {
          "base_uri": "https://localhost:8080/"
        },
        "id": "2aQWIoRdiuAs",
        "outputId": "74084efe-b976-4c3a-d1fc-44e80102c2e5"
      },
      "execution_count": 82,
      "outputs": [
        {
          "output_type": "stream",
          "name": "stdout",
          "text": [
            "Training set shape: (60000, 28, 28, 1), Test set shape: (10000, 28, 28, 1)\n"
          ]
        }
      ]
    },
    {
      "cell_type": "code",
      "source": [
        "def filter_classes(X, y, classes=[5, 7]):\n",
        "    \"\"\"Filter only the specified classes from the dataset.\"\"\"\n",
        "    train_filter = np.isin(y, classes)\n",
        "    X_filtered = X[train_filter]\n",
        "    y_filtered = y[train_filter]\n",
        "    return X_filtered, y_filtered\n",
        "\n",
        "# Filter for classes 5 (sandal) and 7 (sneaker)\n",
        "X_train_filtered, y_train_filtered = filter_classes(X_train, y_train)\n",
        "X_test_filtered, y_test_filtered = filter_classes(X_test, y_test)\n",
        "\n",
        "# Verify filtered shapes\n",
        "print(f\"Filtered training set shape: {X_train_filtered.shape}, Filtered test set shape: {X_test_filtered.shape}\")\n"
      ],
      "metadata": {
        "colab": {
          "base_uri": "https://localhost:8080/"
        },
        "id": "pORc7P96ixlM",
        "outputId": "a84faf6f-8aec-400f-a0c3-c57039e2bc33"
      },
      "execution_count": 85,
      "outputs": [
        {
          "output_type": "stream",
          "name": "stdout",
          "text": [
            "Filtered training set shape: (12000, 28, 28, 1), Filtered test set shape: (2000, 28, 28, 1)\n"
          ]
        }
      ]
    },
    {
      "cell_type": "code",
      "source": [
        "from tensorflow.keras.utils import to_categorical\n",
        "\n",
        "def one_hot_encode_labels(y_train, y_test, class_mapping={5: 0, 7: 1}):\n",
        "    \"\"\"Convert class labels to one-hot encoding.\"\"\"\n",
        "    # Map original class labels (5 and 7) to new labels (0 and 1)\n",
        "    y_train_encoded = np.array([class_mapping[label] for label in y_train])\n",
        "    y_test_encoded = np.array([class_mapping[label] for label in y_test])\n",
        "\n",
        "    # Apply One-Hot Encoding\n",
        "    y_train_one_hot = to_categorical(y_train_encoded, num_classes=2)\n",
        "    y_test_one_hot = to_categorical(y_test_encoded, num_classes=2)\n",
        "\n",
        "    return y_train_one_hot, y_test_one_hot\n",
        "\n",
        "# Apply one-hot encoding to the training and testing labels\n",
        "y_train_one_hot, y_test_one_hot = one_hot_encode_labels(y_train_filtered, y_test_filtered)\n",
        "\n",
        "# Display a sample of the encoded labels\n",
        "print(f\"Original labels (first 10): {y_train_filtered[:10]}\")\n",
        "print(f\"One-Hot Encoded labels (first 10): \\n{y_train_one_hot[:10]}\")"
      ],
      "metadata": {
        "colab": {
          "base_uri": "https://localhost:8080/"
        },
        "id": "zBnGdMxhsRVx",
        "outputId": "2940451e-ded8-424b-c188-215ec9012e04"
      },
      "execution_count": 86,
      "outputs": [
        {
          "output_type": "stream",
          "name": "stdout",
          "text": [
            "Original labels (first 10): [5 7 7 5 5 7 5 7 7 5]\n",
            "One-Hot Encoded labels (first 10): \n",
            "[[1. 0.]\n",
            " [0. 1.]\n",
            " [0. 1.]\n",
            " [1. 0.]\n",
            " [1. 0.]\n",
            " [0. 1.]\n",
            " [1. 0.]\n",
            " [0. 1.]\n",
            " [0. 1.]\n",
            " [1. 0.]]\n"
          ]
        }
      ]
    },
    {
      "cell_type": "code",
      "source": [
        "# Mostrar las formas de los conjuntos\n",
        "print(f\"Forma del conjunto de entrenamiento: {X_train_filtered.shape}\")\n",
        "print(f\"Forma del conjunto de validación: {X_test_filtered.shape}\")\n",
        "\n",
        "# Calcular los pesos de las clases para manejar el desbalance (balanceado)\n",
        "from sklearn.utils.class_weight import compute_class_weight\n",
        "\n",
        "# Calcular los pesos de las clases basados en las etiquetas originales (5 para sandalias, 7 para zapatillas)\n",
        "class_weights = compute_class_weight('balanced', classes=np.unique(y_train_filtered), y=y_train_filtered)\n",
        "\n",
        "# Crear un diccionario con los pesos de clase\n",
        "class_weights_dict = dict(enumerate(class_weights))\n",
        "\n",
        "# Mostrar los pesos de clase calculados\n",
        "print(f\"Pesos de clase calculados: {class_weights_dict}\")\n",
        "\n",
        "# Mostrar la distribución de clases en el conjunto de entrenamiento\n",
        "unique, counts = np.unique(y_train_filtered, return_counts=True)\n",
        "print(f\"Distribución de clases: {dict(zip(unique, counts))}\")\n"
      ],
      "metadata": {
        "colab": {
          "base_uri": "https://localhost:8080/"
        },
        "id": "WDajVL8YkpXm",
        "outputId": "69326027-1cf5-4dfa-82fa-8934f7b147e8"
      },
      "execution_count": 87,
      "outputs": [
        {
          "output_type": "stream",
          "name": "stdout",
          "text": [
            "Forma del conjunto de entrenamiento: (12000, 28, 28, 1)\n",
            "Forma del conjunto de validación: (2000, 28, 28, 1)\n",
            "Pesos de clase calculados: {0: np.float64(1.0), 1: np.float64(1.0)}\n",
            "Distribución de clases: {np.int64(5): np.int64(6000), np.int64(7): np.int64(6000)}\n"
          ]
        }
      ]
    },
    {
      "cell_type": "code",
      "source": [],
      "metadata": {
        "id": "R1yo3bZj2i1G"
      },
      "execution_count": null,
      "outputs": []
    },
    {
      "cell_type": "code",
      "source": [],
      "metadata": {
        "id": "DkyFpPSu2i3s"
      },
      "execution_count": null,
      "outputs": []
    },
    {
      "cell_type": "code",
      "source": [
        "from sklearn.model_selection import train_test_split\n",
        "\n",
        "# Dividir los datos en conjunto de entrenamiento y validación\n",
        "X_train_split, X_val_split, y_train_split, y_val_split = train_test_split(\n",
        "    X_train_filtered,   # Imágenes de entrenamiento\n",
        "    y_train_one_hot,    # Etiquetas de entrenamiento (en formato one-hot)\n",
        "    test_size=0.2,      # El 20% de los datos se usarán para la validación\n",
        "    random_state=42     # Fijar una semilla para asegurar que la división sea reproducible\n",
        ")\n"
      ],
      "metadata": {
        "id": "DL7s4xV42i6L"
      },
      "execution_count": 103,
      "outputs": []
    },
    {
      "cell_type": "code",
      "source": [
        "# Convertir las etiquetas one-hot a enteras\n",
        "def one_hot_to_integer(y_one_hot):\n",
        "    \"\"\"Convertir etiquetas one-hot a enteros.\"\"\"\n",
        "    return np.argmax(y_one_hot, axis=1)\n",
        "\n",
        "# Convertir etiquetas one-hot a enteras para el conjunto de entrenamiento y validación\n",
        "y_train_int = one_hot_to_integer(y_train_split)\n",
        "y_val_int = one_hot_to_integer(y_val_split)\n",
        "\n",
        "# Crear el modelo con sparse_categorical_crossentropy\n",
        "def create_model1(input_shape=(28, 28, 1)):\n",
        "    \"\"\"Modelo alternativo para clasificación de sandalias y zapatillas.\"\"\"\n",
        "    model = models.Sequential([\n",
        "        layers.Conv2D(64, kernel_size=(3, 3), activation='relu', input_shape=input_shape),\n",
        "        layers.MaxPooling2D(pool_size=(2, 2)),\n",
        "        layers.Conv2D(128, kernel_size=(3, 3), activation='relu'),\n",
        "        layers.MaxPooling2D(pool_size=(2, 2)),\n",
        "        layers.Flatten(),\n",
        "        layers.Dense(256, activation='relu'),\n",
        "        layers.Dropout(0.5),  # Dropout para reducir overfitting\n",
        "        layers.Dense(2, activation='softmax')  # Dos clases: sandalias y zapatillas\n",
        "    ])\n",
        "    model.compile(optimizer='adam', loss='sparse_categorical_crossentropy', metrics=['accuracy'])  # Cambiar a sparse_categorical_crossentropy\n",
        "    return model\n",
        "\n",
        "# Crear el modelo\n",
        "model_01 = create_model1()\n",
        "model_01.summary()  # Mostrar la arquitectura del modelo\n",
        "\n",
        "# Entrenar el modelo con los datos de entrenamiento y validación\n",
        "history = model_01.fit(\n",
        "    X_train_split, y_train_int,\n",
        "    epochs=10,\n",
        "    batch_size=64,\n",
        "    validation_data=(X_val_split, y_val_int),\n",
        "    class_weight=class_weights_dict,  # Usar los pesos de clase para manejar el desbalance\n",
        "    verbose=2\n",
        ")\n"
      ],
      "metadata": {
        "colab": {
          "base_uri": "https://localhost:8080/",
          "height": 809
        },
        "id": "lZiFtuU0lGqK",
        "outputId": "a714a6cd-1e61-446b-972f-701040ca9913"
      },
      "execution_count": 88,
      "outputs": [
        {
          "output_type": "stream",
          "name": "stderr",
          "text": [
            "/usr/local/lib/python3.11/dist-packages/keras/src/layers/convolutional/base_conv.py:107: UserWarning: Do not pass an `input_shape`/`input_dim` argument to a layer. When using Sequential models, prefer using an `Input(shape)` object as the first layer in the model instead.\n",
            "  super().__init__(activity_regularizer=activity_regularizer, **kwargs)\n"
          ]
        },
        {
          "output_type": "display_data",
          "data": {
            "text/plain": [
              "\u001b[1mModel: \"sequential_16\"\u001b[0m\n"
            ],
            "text/html": [
              "<pre style=\"white-space:pre;overflow-x:auto;line-height:normal;font-family:Menlo,'DejaVu Sans Mono',consolas,'Courier New',monospace\"><span style=\"font-weight: bold\">Model: \"sequential_16\"</span>\n",
              "</pre>\n"
            ]
          },
          "metadata": {}
        },
        {
          "output_type": "display_data",
          "data": {
            "text/plain": [
              "┏━━━━━━━━━━━━━━━━━━━━━━━━━━━━━━━━━┳━━━━━━━━━━━━━━━━━━━━━━━━┳━━━━━━━━━━━━━━━┓\n",
              "┃\u001b[1m \u001b[0m\u001b[1mLayer (type)                   \u001b[0m\u001b[1m \u001b[0m┃\u001b[1m \u001b[0m\u001b[1mOutput Shape          \u001b[0m\u001b[1m \u001b[0m┃\u001b[1m \u001b[0m\u001b[1m      Param #\u001b[0m\u001b[1m \u001b[0m┃\n",
              "┡━━━━━━━━━━━━━━━━━━━━━━━━━━━━━━━━━╇━━━━━━━━━━━━━━━━━━━━━━━━╇━━━━━━━━━━━━━━━┩\n",
              "│ conv2d_25 (\u001b[38;5;33mConv2D\u001b[0m)              │ (\u001b[38;5;45mNone\u001b[0m, \u001b[38;5;34m26\u001b[0m, \u001b[38;5;34m26\u001b[0m, \u001b[38;5;34m64\u001b[0m)     │           \u001b[38;5;34m640\u001b[0m │\n",
              "├─────────────────────────────────┼────────────────────────┼───────────────┤\n",
              "│ max_pooling2d_25 (\u001b[38;5;33mMaxPooling2D\u001b[0m) │ (\u001b[38;5;45mNone\u001b[0m, \u001b[38;5;34m13\u001b[0m, \u001b[38;5;34m13\u001b[0m, \u001b[38;5;34m64\u001b[0m)     │             \u001b[38;5;34m0\u001b[0m │\n",
              "├─────────────────────────────────┼────────────────────────┼───────────────┤\n",
              "│ conv2d_26 (\u001b[38;5;33mConv2D\u001b[0m)              │ (\u001b[38;5;45mNone\u001b[0m, \u001b[38;5;34m11\u001b[0m, \u001b[38;5;34m11\u001b[0m, \u001b[38;5;34m128\u001b[0m)    │        \u001b[38;5;34m73,856\u001b[0m │\n",
              "├─────────────────────────────────┼────────────────────────┼───────────────┤\n",
              "│ max_pooling2d_26 (\u001b[38;5;33mMaxPooling2D\u001b[0m) │ (\u001b[38;5;45mNone\u001b[0m, \u001b[38;5;34m5\u001b[0m, \u001b[38;5;34m5\u001b[0m, \u001b[38;5;34m128\u001b[0m)      │             \u001b[38;5;34m0\u001b[0m │\n",
              "├─────────────────────────────────┼────────────────────────┼───────────────┤\n",
              "│ flatten_16 (\u001b[38;5;33mFlatten\u001b[0m)            │ (\u001b[38;5;45mNone\u001b[0m, \u001b[38;5;34m3200\u001b[0m)           │             \u001b[38;5;34m0\u001b[0m │\n",
              "├─────────────────────────────────┼────────────────────────┼───────────────┤\n",
              "│ dense_32 (\u001b[38;5;33mDense\u001b[0m)                │ (\u001b[38;5;45mNone\u001b[0m, \u001b[38;5;34m256\u001b[0m)            │       \u001b[38;5;34m819,456\u001b[0m │\n",
              "├─────────────────────────────────┼────────────────────────┼───────────────┤\n",
              "│ dropout_1 (\u001b[38;5;33mDropout\u001b[0m)             │ (\u001b[38;5;45mNone\u001b[0m, \u001b[38;5;34m256\u001b[0m)            │             \u001b[38;5;34m0\u001b[0m │\n",
              "├─────────────────────────────────┼────────────────────────┼───────────────┤\n",
              "│ dense_33 (\u001b[38;5;33mDense\u001b[0m)                │ (\u001b[38;5;45mNone\u001b[0m, \u001b[38;5;34m2\u001b[0m)              │           \u001b[38;5;34m514\u001b[0m │\n",
              "└─────────────────────────────────┴────────────────────────┴───────────────┘\n"
            ],
            "text/html": [
              "<pre style=\"white-space:pre;overflow-x:auto;line-height:normal;font-family:Menlo,'DejaVu Sans Mono',consolas,'Courier New',monospace\">┏━━━━━━━━━━━━━━━━━━━━━━━━━━━━━━━━━┳━━━━━━━━━━━━━━━━━━━━━━━━┳━━━━━━━━━━━━━━━┓\n",
              "┃<span style=\"font-weight: bold\"> Layer (type)                    </span>┃<span style=\"font-weight: bold\"> Output Shape           </span>┃<span style=\"font-weight: bold\">       Param # </span>┃\n",
              "┡━━━━━━━━━━━━━━━━━━━━━━━━━━━━━━━━━╇━━━━━━━━━━━━━━━━━━━━━━━━╇━━━━━━━━━━━━━━━┩\n",
              "│ conv2d_25 (<span style=\"color: #0087ff; text-decoration-color: #0087ff\">Conv2D</span>)              │ (<span style=\"color: #00d7ff; text-decoration-color: #00d7ff\">None</span>, <span style=\"color: #00af00; text-decoration-color: #00af00\">26</span>, <span style=\"color: #00af00; text-decoration-color: #00af00\">26</span>, <span style=\"color: #00af00; text-decoration-color: #00af00\">64</span>)     │           <span style=\"color: #00af00; text-decoration-color: #00af00\">640</span> │\n",
              "├─────────────────────────────────┼────────────────────────┼───────────────┤\n",
              "│ max_pooling2d_25 (<span style=\"color: #0087ff; text-decoration-color: #0087ff\">MaxPooling2D</span>) │ (<span style=\"color: #00d7ff; text-decoration-color: #00d7ff\">None</span>, <span style=\"color: #00af00; text-decoration-color: #00af00\">13</span>, <span style=\"color: #00af00; text-decoration-color: #00af00\">13</span>, <span style=\"color: #00af00; text-decoration-color: #00af00\">64</span>)     │             <span style=\"color: #00af00; text-decoration-color: #00af00\">0</span> │\n",
              "├─────────────────────────────────┼────────────────────────┼───────────────┤\n",
              "│ conv2d_26 (<span style=\"color: #0087ff; text-decoration-color: #0087ff\">Conv2D</span>)              │ (<span style=\"color: #00d7ff; text-decoration-color: #00d7ff\">None</span>, <span style=\"color: #00af00; text-decoration-color: #00af00\">11</span>, <span style=\"color: #00af00; text-decoration-color: #00af00\">11</span>, <span style=\"color: #00af00; text-decoration-color: #00af00\">128</span>)    │        <span style=\"color: #00af00; text-decoration-color: #00af00\">73,856</span> │\n",
              "├─────────────────────────────────┼────────────────────────┼───────────────┤\n",
              "│ max_pooling2d_26 (<span style=\"color: #0087ff; text-decoration-color: #0087ff\">MaxPooling2D</span>) │ (<span style=\"color: #00d7ff; text-decoration-color: #00d7ff\">None</span>, <span style=\"color: #00af00; text-decoration-color: #00af00\">5</span>, <span style=\"color: #00af00; text-decoration-color: #00af00\">5</span>, <span style=\"color: #00af00; text-decoration-color: #00af00\">128</span>)      │             <span style=\"color: #00af00; text-decoration-color: #00af00\">0</span> │\n",
              "├─────────────────────────────────┼────────────────────────┼───────────────┤\n",
              "│ flatten_16 (<span style=\"color: #0087ff; text-decoration-color: #0087ff\">Flatten</span>)            │ (<span style=\"color: #00d7ff; text-decoration-color: #00d7ff\">None</span>, <span style=\"color: #00af00; text-decoration-color: #00af00\">3200</span>)           │             <span style=\"color: #00af00; text-decoration-color: #00af00\">0</span> │\n",
              "├─────────────────────────────────┼────────────────────────┼───────────────┤\n",
              "│ dense_32 (<span style=\"color: #0087ff; text-decoration-color: #0087ff\">Dense</span>)                │ (<span style=\"color: #00d7ff; text-decoration-color: #00d7ff\">None</span>, <span style=\"color: #00af00; text-decoration-color: #00af00\">256</span>)            │       <span style=\"color: #00af00; text-decoration-color: #00af00\">819,456</span> │\n",
              "├─────────────────────────────────┼────────────────────────┼───────────────┤\n",
              "│ dropout_1 (<span style=\"color: #0087ff; text-decoration-color: #0087ff\">Dropout</span>)             │ (<span style=\"color: #00d7ff; text-decoration-color: #00d7ff\">None</span>, <span style=\"color: #00af00; text-decoration-color: #00af00\">256</span>)            │             <span style=\"color: #00af00; text-decoration-color: #00af00\">0</span> │\n",
              "├─────────────────────────────────┼────────────────────────┼───────────────┤\n",
              "│ dense_33 (<span style=\"color: #0087ff; text-decoration-color: #0087ff\">Dense</span>)                │ (<span style=\"color: #00d7ff; text-decoration-color: #00d7ff\">None</span>, <span style=\"color: #00af00; text-decoration-color: #00af00\">2</span>)              │           <span style=\"color: #00af00; text-decoration-color: #00af00\">514</span> │\n",
              "└─────────────────────────────────┴────────────────────────┴───────────────┘\n",
              "</pre>\n"
            ]
          },
          "metadata": {}
        },
        {
          "output_type": "display_data",
          "data": {
            "text/plain": [
              "\u001b[1m Total params: \u001b[0m\u001b[38;5;34m894,466\u001b[0m (3.41 MB)\n"
            ],
            "text/html": [
              "<pre style=\"white-space:pre;overflow-x:auto;line-height:normal;font-family:Menlo,'DejaVu Sans Mono',consolas,'Courier New',monospace\"><span style=\"font-weight: bold\"> Total params: </span><span style=\"color: #00af00; text-decoration-color: #00af00\">894,466</span> (3.41 MB)\n",
              "</pre>\n"
            ]
          },
          "metadata": {}
        },
        {
          "output_type": "display_data",
          "data": {
            "text/plain": [
              "\u001b[1m Trainable params: \u001b[0m\u001b[38;5;34m894,466\u001b[0m (3.41 MB)\n"
            ],
            "text/html": [
              "<pre style=\"white-space:pre;overflow-x:auto;line-height:normal;font-family:Menlo,'DejaVu Sans Mono',consolas,'Courier New',monospace\"><span style=\"font-weight: bold\"> Trainable params: </span><span style=\"color: #00af00; text-decoration-color: #00af00\">894,466</span> (3.41 MB)\n",
              "</pre>\n"
            ]
          },
          "metadata": {}
        },
        {
          "output_type": "display_data",
          "data": {
            "text/plain": [
              "\u001b[1m Non-trainable params: \u001b[0m\u001b[38;5;34m0\u001b[0m (0.00 B)\n"
            ],
            "text/html": [
              "<pre style=\"white-space:pre;overflow-x:auto;line-height:normal;font-family:Menlo,'DejaVu Sans Mono',consolas,'Courier New',monospace\"><span style=\"font-weight: bold\"> Non-trainable params: </span><span style=\"color: #00af00; text-decoration-color: #00af00\">0</span> (0.00 B)\n",
              "</pre>\n"
            ]
          },
          "metadata": {}
        },
        {
          "output_type": "stream",
          "name": "stdout",
          "text": [
            "Epoch 1/10\n",
            "150/150 - 24s - 157ms/step - accuracy: 0.9375 - loss: 0.1623 - val_accuracy: 0.9525 - val_loss: 0.1319\n",
            "Epoch 2/10\n",
            "150/150 - 41s - 276ms/step - accuracy: 0.9800 - loss: 0.0611 - val_accuracy: 0.9817 - val_loss: 0.0530\n",
            "Epoch 3/10\n",
            "150/150 - 40s - 265ms/step - accuracy: 0.9859 - loss: 0.0436 - val_accuracy: 0.9829 - val_loss: 0.0523\n",
            "Epoch 4/10\n",
            "150/150 - 21s - 141ms/step - accuracy: 0.9910 - loss: 0.0273 - val_accuracy: 0.9821 - val_loss: 0.0474\n",
            "Epoch 5/10\n",
            "150/150 - 41s - 273ms/step - accuracy: 0.9929 - loss: 0.0191 - val_accuracy: 0.9867 - val_loss: 0.0362\n",
            "Epoch 6/10\n",
            "150/150 - 40s - 264ms/step - accuracy: 0.9953 - loss: 0.0138 - val_accuracy: 0.9875 - val_loss: 0.0428\n",
            "Epoch 7/10\n",
            "150/150 - 22s - 147ms/step - accuracy: 0.9945 - loss: 0.0144 - val_accuracy: 0.9854 - val_loss: 0.0479\n",
            "Epoch 8/10\n",
            "150/150 - 40s - 264ms/step - accuracy: 0.9971 - loss: 0.0101 - val_accuracy: 0.9846 - val_loss: 0.0550\n",
            "Epoch 9/10\n",
            "150/150 - 22s - 146ms/step - accuracy: 0.9973 - loss: 0.0077 - val_accuracy: 0.9875 - val_loss: 0.0466\n",
            "Epoch 10/10\n",
            "150/150 - 40s - 267ms/step - accuracy: 0.9994 - loss: 0.0029 - val_accuracy: 0.9862 - val_loss: 0.0426\n"
          ]
        }
      ]
    },
    {
      "cell_type": "code",
      "source": [
        "from sklearn.metrics import confusion_matrix\n",
        "import seaborn as sns\n",
        "import matplotlib.pyplot as plt\n",
        "\n",
        "# Hacer predicciones en el conjunto de prueba\n",
        "y_pred = model_01.predict(X_test_filtered)\n",
        "y_pred_classes = np.argmax(y_pred, axis=1)  # Obtener las clases predichas\n",
        "\n",
        "# Calcular la matriz de confusión\n",
        "cm = confusion_matrix(np.argmax(y_test_one_hot, axis=1), y_pred_classes)\n",
        "\n",
        "# Visualizar la matriz de confusión\n",
        "plt.figure(figsize=(6, 5))\n",
        "sns.heatmap(cm, annot=True, fmt='d', cmap='Blues', xticklabels=['Sandalias', 'Zapatillas'], yticklabels=['Sandalias', 'Zapatillas'])\n",
        "plt.xlabel('Predicción')\n",
        "plt.ylabel('Real')\n",
        "plt.title('Matriz de Confusión')\n",
        "plt.show()\n"
      ],
      "metadata": {
        "colab": {
          "base_uri": "https://localhost:8080/",
          "height": 505
        },
        "id": "V4NyM84N8jZL",
        "outputId": "b60aee4c-e43f-49c2-f9bc-a856fd4102bf"
      },
      "execution_count": 113,
      "outputs": [
        {
          "output_type": "stream",
          "name": "stdout",
          "text": [
            "\u001b[1m63/63\u001b[0m \u001b[32m━━━━━━━━━━━━━━━━━━━━\u001b[0m\u001b[37m\u001b[0m \u001b[1m1s\u001b[0m 17ms/step\n"
          ]
        },
        {
          "output_type": "display_data",
          "data": {
            "text/plain": [
              "<Figure size 600x500 with 2 Axes>"
            ],
            "image/png": "[encoded data removed]"
          },
          "metadata": {}
        }
      ]
    },
    {
      "cell_type": "code",
      "source": [
        "# Model 2\n",
        "def create_model2(input_shape=(28, 28, 1)):\n",
        "    \"\"\"Modelo alternativo para clasificación de sandalias y zapatillas con más capas convolucionales.\"\"\"\n",
        "    model = models.Sequential([\n",
        "        layers.Conv2D(32, kernel_size=(3, 3), activation='relu', input_shape=input_shape),\n",
        "        layers.MaxPooling2D(pool_size=(2, 2)),\n",
        "        layers.Conv2D(64, kernel_size=(3, 3), activation='relu'),\n",
        "        layers.MaxPooling2D(pool_size=(2, 2)),\n",
        "        layers.Conv2D(128, kernel_size=(3, 3), activation='relu'),\n",
        "        layers.MaxPooling2D(pool_size=(2, 2)),\n",
        "        layers.Flatten(),\n",
        "        layers.Dense(128, activation='relu'),\n",
        "        layers.Dropout(0.4),  # Dropout reducido para prevenir overfitting\n",
        "        layers.Dense(2, activation='softmax')  # Dos clases: sandalias y zapatillas\n",
        "    ])\n",
        "    model.compile(optimizer='adam', loss='sparse_categorical_crossentropy', metrics=['accuracy'])\n",
        "    return model\n",
        "\n",
        "# Crear el modelo\n",
        "model_02 = create_model2()\n",
        "model_02.summary()  # Mostrar la arquitectura del modelo\n",
        "\n",
        "# Entrenar el modelo con los datos de entrenamiento y validación\n",
        "history2 = model_02.fit(\n",
        "    X_train_split, y_train_int,\n",
        "    epochs=10,\n",
        "    batch_size=64,\n",
        "    validation_data=(X_val_split, y_val_int),\n",
        "    class_weight=class_weights_dict,  # Usar los pesos de clase para manejar el desbalance\n",
        "    verbose=2\n",
        ")\n"
      ],
      "metadata": {
        "colab": {
          "base_uri": "https://localhost:8080/",
          "height": 820
        },
        "id": "NdPraJQouF7h",
        "outputId": "8b12ae17-6fad-4a82-d272-f195ee871341"
      },
      "execution_count": 89,
      "outputs": [
        {
          "output_type": "display_data",
          "data": {
            "text/plain": [
              "\u001b[1mModel: \"sequential_17\"\u001b[0m\n"
            ],
            "text/html": [
              "<pre style=\"white-space:pre;overflow-x:auto;line-height:normal;font-family:Menlo,'DejaVu Sans Mono',consolas,'Courier New',monospace\"><span style=\"font-weight: bold\">Model: \"sequential_17\"</span>\n",
              "</pre>\n"
            ]
          },
          "metadata": {}
        },
        {
          "output_type": "display_data",
          "data": {
            "text/plain": [
              "┏━━━━━━━━━━━━━━━━━━━━━━━━━━━━━━━━━┳━━━━━━━━━━━━━━━━━━━━━━━━┳━━━━━━━━━━━━━━━┓\n",
              "┃\u001b[1m \u001b[0m\u001b[1mLayer (type)                   \u001b[0m\u001b[1m \u001b[0m┃\u001b[1m \u001b[0m\u001b[1mOutput Shape          \u001b[0m\u001b[1m \u001b[0m┃\u001b[1m \u001b[0m\u001b[1m      Param #\u001b[0m\u001b[1m \u001b[0m┃\n",
              "┡━━━━━━━━━━━━━━━━━━━━━━━━━━━━━━━━━╇━━━━━━━━━━━━━━━━━━━━━━━━╇━━━━━━━━━━━━━━━┩\n",
              "│ conv2d_27 (\u001b[38;5;33mConv2D\u001b[0m)              │ (\u001b[38;5;45mNone\u001b[0m, \u001b[38;5;34m26\u001b[0m, \u001b[38;5;34m26\u001b[0m, \u001b[38;5;34m32\u001b[0m)     │           \u001b[38;5;34m320\u001b[0m │\n",
              "├─────────────────────────────────┼────────────────────────┼───────────────┤\n",
              "│ max_pooling2d_27 (\u001b[38;5;33mMaxPooling2D\u001b[0m) │ (\u001b[38;5;45mNone\u001b[0m, \u001b[38;5;34m13\u001b[0m, \u001b[38;5;34m13\u001b[0m, \u001b[38;5;34m32\u001b[0m)     │             \u001b[38;5;34m0\u001b[0m │\n",
              "├─────────────────────────────────┼────────────────────────┼───────────────┤\n",
              "│ conv2d_28 (\u001b[38;5;33mConv2D\u001b[0m)              │ (\u001b[38;5;45mNone\u001b[0m, \u001b[38;5;34m11\u001b[0m, \u001b[38;5;34m11\u001b[0m, \u001b[38;5;34m64\u001b[0m)     │        \u001b[38;5;34m18,496\u001b[0m │\n",
              "├─────────────────────────────────┼────────────────────────┼───────────────┤\n",
              "│ max_pooling2d_28 (\u001b[38;5;33mMaxPooling2D\u001b[0m) │ (\u001b[38;5;45mNone\u001b[0m, \u001b[38;5;34m5\u001b[0m, \u001b[38;5;34m5\u001b[0m, \u001b[38;5;34m64\u001b[0m)       │             \u001b[38;5;34m0\u001b[0m │\n",
              "├─────────────────────────────────┼────────────────────────┼───────────────┤\n",
              "│ conv2d_29 (\u001b[38;5;33mConv2D\u001b[0m)              │ (\u001b[38;5;45mNone\u001b[0m, \u001b[38;5;34m3\u001b[0m, \u001b[38;5;34m3\u001b[0m, \u001b[38;5;34m128\u001b[0m)      │        \u001b[38;5;34m73,856\u001b[0m │\n",
              "├─────────────────────────────────┼────────────────────────┼───────────────┤\n",
              "│ max_pooling2d_29 (\u001b[38;5;33mMaxPooling2D\u001b[0m) │ (\u001b[38;5;45mNone\u001b[0m, \u001b[38;5;34m1\u001b[0m, \u001b[38;5;34m1\u001b[0m, \u001b[38;5;34m128\u001b[0m)      │             \u001b[38;5;34m0\u001b[0m │\n",
              "├─────────────────────────────────┼────────────────────────┼───────────────┤\n",
              "│ flatten_17 (\u001b[38;5;33mFlatten\u001b[0m)            │ (\u001b[38;5;45mNone\u001b[0m, \u001b[38;5;34m128\u001b[0m)            │             \u001b[38;5;34m0\u001b[0m │\n",
              "├─────────────────────────────────┼────────────────────────┼───────────────┤\n",
              "│ dense_34 (\u001b[38;5;33mDense\u001b[0m)                │ (\u001b[38;5;45mNone\u001b[0m, \u001b[38;5;34m128\u001b[0m)            │        \u001b[38;5;34m16,512\u001b[0m │\n",
              "├─────────────────────────────────┼────────────────────────┼───────────────┤\n",
              "│ dropout_2 (\u001b[38;5;33mDropout\u001b[0m)             │ (\u001b[38;5;45mNone\u001b[0m, \u001b[38;5;34m128\u001b[0m)            │             \u001b[38;5;34m0\u001b[0m │\n",
              "├─────────────────────────────────┼────────────────────────┼───────────────┤\n",
              "│ dense_35 (\u001b[38;5;33mDense\u001b[0m)                │ (\u001b[38;5;45mNone\u001b[0m, \u001b[38;5;34m2\u001b[0m)              │           \u001b[38;5;34m258\u001b[0m │\n",
              "└─────────────────────────────────┴────────────────────────┴───────────────┘\n"
            ],
            "text/html": [
              "<pre style=\"white-space:pre;overflow-x:auto;line-height:normal;font-family:Menlo,'DejaVu Sans Mono',consolas,'Courier New',monospace\">┏━━━━━━━━━━━━━━━━━━━━━━━━━━━━━━━━━┳━━━━━━━━━━━━━━━━━━━━━━━━┳━━━━━━━━━━━━━━━┓\n",
              "┃<span style=\"font-weight: bold\"> Layer (type)                    </span>┃<span style=\"font-weight: bold\"> Output Shape           </span>┃<span style=\"font-weight: bold\">       Param # </span>┃\n",
              "┡━━━━━━━━━━━━━━━━━━━━━━━━━━━━━━━━━╇━━━━━━━━━━━━━━━━━━━━━━━━╇━━━━━━━━━━━━━━━┩\n",
              "│ conv2d_27 (<span style=\"color: #0087ff; text-decoration-color: #0087ff\">Conv2D</span>)              │ (<span style=\"color: #00d7ff; text-decoration-color: #00d7ff\">None</span>, <span style=\"color: #00af00; text-decoration-color: #00af00\">26</span>, <span style=\"color: #00af00; text-decoration-color: #00af00\">26</span>, <span style=\"color: #00af00; text-decoration-color: #00af00\">32</span>)     │           <span style=\"color: #00af00; text-decoration-color: #00af00\">320</span> │\n",
              "├─────────────────────────────────┼────────────────────────┼───────────────┤\n",
              "│ max_pooling2d_27 (<span style=\"color: #0087ff; text-decoration-color: #0087ff\">MaxPooling2D</span>) │ (<span style=\"color: #00d7ff; text-decoration-color: #00d7ff\">None</span>, <span style=\"color: #00af00; text-decoration-color: #00af00\">13</span>, <span style=\"color: #00af00; text-decoration-color: #00af00\">13</span>, <span style=\"color: #00af00; text-decoration-color: #00af00\">32</span>)     │             <span style=\"color: #00af00; text-decoration-color: #00af00\">0</span> │\n",
              "├─────────────────────────────────┼────────────────────────┼───────────────┤\n",
              "│ conv2d_28 (<span style=\"color: #0087ff; text-decoration-color: #0087ff\">Conv2D</span>)              │ (<span style=\"color: #00d7ff; text-decoration-color: #00d7ff\">None</span>, <span style=\"color: #00af00; text-decoration-color: #00af00\">11</span>, <span style=\"color: #00af00; text-decoration-color: #00af00\">11</span>, <span style=\"color: #00af00; text-decoration-color: #00af00\">64</span>)     │        <span style=\"color: #00af00; text-decoration-color: #00af00\">18,496</span> │\n",
              "├─────────────────────────────────┼────────────────────────┼───────────────┤\n",
              "│ max_pooling2d_28 (<span style=\"color: #0087ff; text-decoration-color: #0087ff\">MaxPooling2D</span>) │ (<span style=\"color: #00d7ff; text-decoration-color: #00d7ff\">None</span>, <span style=\"color: #00af00; text-decoration-color: #00af00\">5</span>, <span style=\"color: #00af00; text-decoration-color: #00af00\">5</span>, <span style=\"color: #00af00; text-decoration-color: #00af00\">64</span>)       │             <span style=\"color: #00af00; text-decoration-color: #00af00\">0</span> │\n",
              "├─────────────────────────────────┼────────────────────────┼───────────────┤\n",
              "│ conv2d_29 (<span style=\"color: #0087ff; text-decoration-color: #0087ff\">Conv2D</span>)              │ (<span style=\"color: #00d7ff; text-decoration-color: #00d7ff\">None</span>, <span style=\"color: #00af00; text-decoration-color: #00af00\">3</span>, <span style=\"color: #00af00; text-decoration-color: #00af00\">3</span>, <span style=\"color: #00af00; text-decoration-color: #00af00\">128</span>)      │        <span style=\"color: #00af00; text-decoration-color: #00af00\">73,856</span> │\n",
              "├─────────────────────────────────┼────────────────────────┼───────────────┤\n",
              "│ max_pooling2d_29 (<span style=\"color: #0087ff; text-decoration-color: #0087ff\">MaxPooling2D</span>) │ (<span style=\"color: #00d7ff; text-decoration-color: #00d7ff\">None</span>, <span style=\"color: #00af00; text-decoration-color: #00af00\">1</span>, <span style=\"color: #00af00; text-decoration-color: #00af00\">1</span>, <span style=\"color: #00af00; text-decoration-color: #00af00\">128</span>)      │             <span style=\"color: #00af00; text-decoration-color: #00af00\">0</span> │\n",
              "├─────────────────────────────────┼────────────────────────┼───────────────┤\n",
              "│ flatten_17 (<span style=\"color: #0087ff; text-decoration-color: #0087ff\">Flatten</span>)            │ (<span style=\"color: #00d7ff; text-decoration-color: #00d7ff\">None</span>, <span style=\"color: #00af00; text-decoration-color: #00af00\">128</span>)            │             <span style=\"color: #00af00; text-decoration-color: #00af00\">0</span> │\n",
              "├─────────────────────────────────┼────────────────────────┼───────────────┤\n",
              "│ dense_34 (<span style=\"color: #0087ff; text-decoration-color: #0087ff\">Dense</span>)                │ (<span style=\"color: #00d7ff; text-decoration-color: #00d7ff\">None</span>, <span style=\"color: #00af00; text-decoration-color: #00af00\">128</span>)            │        <span style=\"color: #00af00; text-decoration-color: #00af00\">16,512</span> │\n",
              "├─────────────────────────────────┼────────────────────────┼───────────────┤\n",
              "│ dropout_2 (<span style=\"color: #0087ff; text-decoration-color: #0087ff\">Dropout</span>)             │ (<span style=\"color: #00d7ff; text-decoration-color: #00d7ff\">None</span>, <span style=\"color: #00af00; text-decoration-color: #00af00\">128</span>)            │             <span style=\"color: #00af00; text-decoration-color: #00af00\">0</span> │\n",
              "├─────────────────────────────────┼────────────────────────┼───────────────┤\n",
              "│ dense_35 (<span style=\"color: #0087ff; text-decoration-color: #0087ff\">Dense</span>)                │ (<span style=\"color: #00d7ff; text-decoration-color: #00d7ff\">None</span>, <span style=\"color: #00af00; text-decoration-color: #00af00\">2</span>)              │           <span style=\"color: #00af00; text-decoration-color: #00af00\">258</span> │\n",
              "└─────────────────────────────────┴────────────────────────┴───────────────┘\n",
              "</pre>\n"
            ]
          },
          "metadata": {}
        },
        {
          "output_type": "display_data",
          "data": {
            "text/plain": [
              "\u001b[1m Total params: \u001b[0m\u001b[38;5;34m109,442\u001b[0m (427.51 KB)\n"
            ],
            "text/html": [
              "<pre style=\"white-space:pre;overflow-x:auto;line-height:normal;font-family:Menlo,'DejaVu Sans Mono',consolas,'Courier New',monospace\"><span style=\"font-weight: bold\"> Total params: </span><span style=\"color: #00af00; text-decoration-color: #00af00\">109,442</span> (427.51 KB)\n",
              "</pre>\n"
            ]
          },
          "metadata": {}
        },
        {
          "output_type": "display_data",
          "data": {
            "text/plain": [
              "\u001b[1m Trainable params: \u001b[0m\u001b[38;5;34m109,442\u001b[0m (427.51 KB)\n"
            ],
            "text/html": [
              "<pre style=\"white-space:pre;overflow-x:auto;line-height:normal;font-family:Menlo,'DejaVu Sans Mono',consolas,'Courier New',monospace\"><span style=\"font-weight: bold\"> Trainable params: </span><span style=\"color: #00af00; text-decoration-color: #00af00\">109,442</span> (427.51 KB)\n",
              "</pre>\n"
            ]
          },
          "metadata": {}
        },
        {
          "output_type": "display_data",
          "data": {
            "text/plain": [
              "\u001b[1m Non-trainable params: \u001b[0m\u001b[38;5;34m0\u001b[0m (0.00 B)\n"
            ],
            "text/html": [
              "<pre style=\"white-space:pre;overflow-x:auto;line-height:normal;font-family:Menlo,'DejaVu Sans Mono',consolas,'Courier New',monospace\"><span style=\"font-weight: bold\"> Non-trainable params: </span><span style=\"color: #00af00; text-decoration-color: #00af00\">0</span> (0.00 B)\n",
              "</pre>\n"
            ]
          },
          "metadata": {}
        },
        {
          "output_type": "stream",
          "name": "stdout",
          "text": [
            "Epoch 1/10\n",
            "150/150 - 10s - 70ms/step - accuracy: 0.9112 - loss: 0.2308 - val_accuracy: 0.9504 - val_loss: 0.1320\n",
            "Epoch 2/10\n",
            "150/150 - 9s - 60ms/step - accuracy: 0.9601 - loss: 0.1143 - val_accuracy: 0.9692 - val_loss: 0.0907\n",
            "Epoch 3/10\n",
            "150/150 - 10s - 70ms/step - accuracy: 0.9708 - loss: 0.0853 - val_accuracy: 0.9663 - val_loss: 0.0838\n",
            "Epoch 4/10\n",
            "150/150 - 10s - 66ms/step - accuracy: 0.9784 - loss: 0.0618 - val_accuracy: 0.9779 - val_loss: 0.0724\n",
            "Epoch 5/10\n",
            "150/150 - 9s - 62ms/step - accuracy: 0.9822 - loss: 0.0514 - val_accuracy: 0.9787 - val_loss: 0.0624\n",
            "Epoch 6/10\n",
            "150/150 - 10s - 68ms/step - accuracy: 0.9874 - loss: 0.0383 - val_accuracy: 0.9812 - val_loss: 0.0581\n",
            "Epoch 7/10\n",
            "150/150 - 11s - 74ms/step - accuracy: 0.9899 - loss: 0.0303 - val_accuracy: 0.9821 - val_loss: 0.0604\n",
            "Epoch 8/10\n",
            "150/150 - 9s - 59ms/step - accuracy: 0.9942 - loss: 0.0204 - val_accuracy: 0.9825 - val_loss: 0.0590\n",
            "Epoch 9/10\n",
            "150/150 - 10s - 64ms/step - accuracy: 0.9942 - loss: 0.0171 - val_accuracy: 0.9842 - val_loss: 0.0484\n",
            "Epoch 10/10\n",
            "150/150 - 10s - 65ms/step - accuracy: 0.9946 - loss: 0.0156 - val_accuracy: 0.9850 - val_loss: 0.0532\n"
          ]
        }
      ]
    },
    {
      "cell_type": "code",
      "source": [],
      "metadata": {
        "id": "7n4zxCXs3iEy"
      },
      "execution_count": null,
      "outputs": []
    },
    {
      "cell_type": "code",
      "source": [],
      "metadata": {
        "id": "6IdpZyXP3brZ"
      },
      "execution_count": null,
      "outputs": []
    },
    {
      "cell_type": "code",
      "source": [
        "from sklearn.metrics import confusion_matrix\n",
        "import seaborn as sns\n",
        "import matplotlib.pyplot as plt\n",
        "\n",
        "# Hacer predicciones en el conjunto de prueba\n",
        "y_pred = model_02.predict(X_test_filtered)\n",
        "y_pred_classes = np.argmax(y_pred, axis=1)  # Obtener las clases predichas\n",
        "\n",
        "# Calcular la matriz de confusión\n",
        "cm = confusion_matrix(np.argmax(y_test_one_hot, axis=1), y_pred_classes)\n",
        "\n",
        "# Visualizar la matriz de confusión\n",
        "plt.figure(figsize=(6, 5))\n",
        "sns.heatmap(cm, annot=True, fmt='d', cmap='Blues', xticklabels=['Sandalias', 'Zapatillas'], yticklabels=['Sandalias', 'Zapatillas'])\n",
        "plt.xlabel('Predicción')\n",
        "plt.ylabel('Real')\n",
        "plt.title('Matriz de Confusión')\n",
        "plt.show()\n"
      ],
      "metadata": {
        "colab": {
          "base_uri": "https://localhost:8080/",
          "height": 505
        },
        "id": "aJE38qxJ3btg",
        "outputId": "cc29b1fd-ab07-4f56-bd77-14dc7661484f"
      },
      "execution_count": 104,
      "outputs": [
        {
          "output_type": "stream",
          "name": "stdout",
          "text": [
            "\u001b[1m63/63\u001b[0m \u001b[32m━━━━━━━━━━━━━━━━━━━━\u001b[0m\u001b[37m\u001b[0m \u001b[1m1s\u001b[0m 15ms/step\n"
          ]
        },
        {
          "output_type": "display_data",
          "data": {
            "text/plain": [
              "<Figure size 600x500 with 2 Axes>"
            ],
            "image/png": "[encoded data removed]"
          },
          "metadata": {}
        }
      ]
    },
    {
      "cell_type": "code",
      "source": [],
      "metadata": {
        "id": "d96t89oA3bxZ"
      },
      "execution_count": null,
      "outputs": []
    },
    {
      "cell_type": "code",
      "source": [
        "# Crear el modelo alternativo 3\n",
        "def create_model3(input_shape=(28, 28, 1)):\n",
        "    \"\"\"Modelo alternativo 3 para clasificación de sandalias y zapatillas, con BatchNormalization y RMSprop.\"\"\"\n",
        "    model = models.Sequential([\n",
        "        layers.Conv2D(32, kernel_size=(3, 3), activation='relu', input_shape=input_shape),\n",
        "        layers.BatchNormalization(),  # Añadir BatchNormalization\n",
        "        layers.MaxPooling2D(pool_size=(2, 2)),\n",
        "\n",
        "        layers.Conv2D(64, kernel_size=(3, 3), activation='relu'),\n",
        "        layers.BatchNormalization(),  # Añadir BatchNormalization\n",
        "        layers.MaxPooling2D(pool_size=(2, 2)),\n",
        "\n",
        "        layers.Conv2D(128, kernel_size=(3, 3), activation='relu'),\n",
        "        layers.BatchNormalization(),  # Añadir BatchNormalization\n",
        "        layers.MaxPooling2D(pool_size=(2, 2)),\n",
        "\n",
        "        layers.Flatten(),\n",
        "        layers.Dense(128, activation='relu'),\n",
        "        layers.Dropout(0.4),  # Dropout para prevenir overfitting\n",
        "        layers.Dense(2, activation='softmax')  # Dos clases: sandalias y zapatillas\n",
        "    ])\n",
        "\n",
        "    # Usar RMSprop como optimizador para el modelo\n",
        "    model.compile(optimizer='rmsprop', loss='sparse_categorical_crossentropy', metrics=['accuracy'])\n",
        "\n",
        "    return model\n",
        "\n",
        "# Crear el modelo\n",
        "model_03 = create_model3()\n",
        "model_03.summary()  # Mostrar la arquitectura del modelo\n",
        "\n",
        "# Entrenar el modelo con los datos de entrenamiento y validación\n",
        "history3 = model_03.fit(\n",
        "    X_train_split, y_train_int,\n",
        "    epochs=10,\n",
        "    batch_size=64,\n",
        "    validation_data=(X_val_split, y_val_int),\n",
        "    class_weight=class_weights_dict,  # Usar los pesos de clase para manejar el desbalance\n",
        "    verbose=2\n",
        ")\n"
      ],
      "metadata": {
        "colab": {
          "base_uri": "https://localhost:8080/",
          "height": 968
        },
        "id": "6uzNBJ16vKj1",
        "outputId": "ea6a42c7-9c75-4f53-986e-4fe2716ba68b"
      },
      "execution_count": 90,
      "outputs": [
        {
          "output_type": "display_data",
          "data": {
            "text/plain": [
              "\u001b[1mModel: \"sequential_18\"\u001b[0m\n"
            ],
            "text/html": [
              "<pre style=\"white-space:pre;overflow-x:auto;line-height:normal;font-family:Menlo,'DejaVu Sans Mono',consolas,'Courier New',monospace\"><span style=\"font-weight: bold\">Model: \"sequential_18\"</span>\n",
              "</pre>\n"
            ]
          },
          "metadata": {}
        },
        {
          "output_type": "display_data",
          "data": {
            "text/plain": [
              "┏━━━━━━━━━━━━━━━━━━━━━━━━━━━━━━━━━┳━━━━━━━━━━━━━━━━━━━━━━━━┳━━━━━━━━━━━━━━━┓\n",
              "┃\u001b[1m \u001b[0m\u001b[1mLayer (type)                   \u001b[0m\u001b[1m \u001b[0m┃\u001b[1m \u001b[0m\u001b[1mOutput Shape          \u001b[0m\u001b[1m \u001b[0m┃\u001b[1m \u001b[0m\u001b[1m      Param #\u001b[0m\u001b[1m \u001b[0m┃\n",
              "┡━━━━━━━━━━━━━━━━━━━━━━━━━━━━━━━━━╇━━━━━━━━━━━━━━━━━━━━━━━━╇━━━━━━━━━━━━━━━┩\n",
              "│ conv2d_30 (\u001b[38;5;33mConv2D\u001b[0m)              │ (\u001b[38;5;45mNone\u001b[0m, \u001b[38;5;34m26\u001b[0m, \u001b[38;5;34m26\u001b[0m, \u001b[38;5;34m32\u001b[0m)     │           \u001b[38;5;34m320\u001b[0m │\n",
              "├─────────────────────────────────┼────────────────────────┼───────────────┤\n",
              "│ batch_normalization             │ (\u001b[38;5;45mNone\u001b[0m, \u001b[38;5;34m26\u001b[0m, \u001b[38;5;34m26\u001b[0m, \u001b[38;5;34m32\u001b[0m)     │           \u001b[38;5;34m128\u001b[0m │\n",
              "│ (\u001b[38;5;33mBatchNormalization\u001b[0m)            │                        │               │\n",
              "├─────────────────────────────────┼────────────────────────┼───────────────┤\n",
              "│ max_pooling2d_30 (\u001b[38;5;33mMaxPooling2D\u001b[0m) │ (\u001b[38;5;45mNone\u001b[0m, \u001b[38;5;34m13\u001b[0m, \u001b[38;5;34m13\u001b[0m, \u001b[38;5;34m32\u001b[0m)     │             \u001b[38;5;34m0\u001b[0m │\n",
              "├─────────────────────────────────┼────────────────────────┼───────────────┤\n",
              "│ conv2d_31 (\u001b[38;5;33mConv2D\u001b[0m)              │ (\u001b[38;5;45mNone\u001b[0m, \u001b[38;5;34m11\u001b[0m, \u001b[38;5;34m11\u001b[0m, \u001b[38;5;34m64\u001b[0m)     │        \u001b[38;5;34m18,496\u001b[0m │\n",
              "├─────────────────────────────────┼────────────────────────┼───────────────┤\n",
              "│ batch_normalization_1           │ (\u001b[38;5;45mNone\u001b[0m, \u001b[38;5;34m11\u001b[0m, \u001b[38;5;34m11\u001b[0m, \u001b[38;5;34m64\u001b[0m)     │           \u001b[38;5;34m256\u001b[0m │\n",
              "│ (\u001b[38;5;33mBatchNormalization\u001b[0m)            │                        │               │\n",
              "├─────────────────────────────────┼────────────────────────┼───────────────┤\n",
              "│ max_pooling2d_31 (\u001b[38;5;33mMaxPooling2D\u001b[0m) │ (\u001b[38;5;45mNone\u001b[0m, \u001b[38;5;34m5\u001b[0m, \u001b[38;5;34m5\u001b[0m, \u001b[38;5;34m64\u001b[0m)       │             \u001b[38;5;34m0\u001b[0m │\n",
              "├─────────────────────────────────┼────────────────────────┼───────────────┤\n",
              "│ conv2d_32 (\u001b[38;5;33mConv2D\u001b[0m)              │ (\u001b[38;5;45mNone\u001b[0m, \u001b[38;5;34m3\u001b[0m, \u001b[38;5;34m3\u001b[0m, \u001b[38;5;34m128\u001b[0m)      │        \u001b[38;5;34m73,856\u001b[0m │\n",
              "├─────────────────────────────────┼────────────────────────┼───────────────┤\n",
              "│ batch_normalization_2           │ (\u001b[38;5;45mNone\u001b[0m, \u001b[38;5;34m3\u001b[0m, \u001b[38;5;34m3\u001b[0m, \u001b[38;5;34m128\u001b[0m)      │           \u001b[38;5;34m512\u001b[0m │\n",
              "│ (\u001b[38;5;33mBatchNormalization\u001b[0m)            │                        │               │\n",
              "├─────────────────────────────────┼────────────────────────┼───────────────┤\n",
              "│ max_pooling2d_32 (\u001b[38;5;33mMaxPooling2D\u001b[0m) │ (\u001b[38;5;45mNone\u001b[0m, \u001b[38;5;34m1\u001b[0m, \u001b[38;5;34m1\u001b[0m, \u001b[38;5;34m128\u001b[0m)      │             \u001b[38;5;34m0\u001b[0m │\n",
              "├─────────────────────────────────┼────────────────────────┼───────────────┤\n",
              "│ flatten_18 (\u001b[38;5;33mFlatten\u001b[0m)            │ (\u001b[38;5;45mNone\u001b[0m, \u001b[38;5;34m128\u001b[0m)            │             \u001b[38;5;34m0\u001b[0m │\n",
              "├─────────────────────────────────┼────────────────────────┼───────────────┤\n",
              "│ dense_36 (\u001b[38;5;33mDense\u001b[0m)                │ (\u001b[38;5;45mNone\u001b[0m, \u001b[38;5;34m128\u001b[0m)            │        \u001b[38;5;34m16,512\u001b[0m │\n",
              "├─────────────────────────────────┼────────────────────────┼───────────────┤\n",
              "│ dropout_3 (\u001b[38;5;33mDropout\u001b[0m)             │ (\u001b[38;5;45mNone\u001b[0m, \u001b[38;5;34m128\u001b[0m)            │             \u001b[38;5;34m0\u001b[0m │\n",
              "├─────────────────────────────────┼────────────────────────┼───────────────┤\n",
              "│ dense_37 (\u001b[38;5;33mDense\u001b[0m)                │ (\u001b[38;5;45mNone\u001b[0m, \u001b[38;5;34m2\u001b[0m)              │           \u001b[38;5;34m258\u001b[0m │\n",
              "└─────────────────────────────────┴────────────────────────┴───────────────┘\n"
            ],
            "text/html": [
              "<pre style=\"white-space:pre;overflow-x:auto;line-height:normal;font-family:Menlo,'DejaVu Sans Mono',consolas,'Courier New',monospace\">┏━━━━━━━━━━━━━━━━━━━━━━━━━━━━━━━━━┳━━━━━━━━━━━━━━━━━━━━━━━━┳━━━━━━━━━━━━━━━┓\n",
              "┃<span style=\"font-weight: bold\"> Layer (type)                    </span>┃<span style=\"font-weight: bold\"> Output Shape           </span>┃<span style=\"font-weight: bold\">       Param # </span>┃\n",
              "┡━━━━━━━━━━━━━━━━━━━━━━━━━━━━━━━━━╇━━━━━━━━━━━━━━━━━━━━━━━━╇━━━━━━━━━━━━━━━┩\n",
              "│ conv2d_30 (<span style=\"color: #0087ff; text-decoration-color: #0087ff\">Conv2D</span>)              │ (<span style=\"color: #00d7ff; text-decoration-color: #00d7ff\">None</span>, <span style=\"color: #00af00; text-decoration-color: #00af00\">26</span>, <span style=\"color: #00af00; text-decoration-color: #00af00\">26</span>, <span style=\"color: #00af00; text-decoration-color: #00af00\">32</span>)     │           <span style=\"color: #00af00; text-decoration-color: #00af00\">320</span> │\n",
              "├─────────────────────────────────┼────────────────────────┼───────────────┤\n",
              "│ batch_normalization             │ (<span style=\"color: #00d7ff; text-decoration-color: #00d7ff\">None</span>, <span style=\"color: #00af00; text-decoration-color: #00af00\">26</span>, <span style=\"color: #00af00; text-decoration-color: #00af00\">26</span>, <span style=\"color: #00af00; text-decoration-color: #00af00\">32</span>)     │           <span style=\"color: #00af00; text-decoration-color: #00af00\">128</span> │\n",
              "│ (<span style=\"color: #0087ff; text-decoration-color: #0087ff\">BatchNormalization</span>)            │                        │               │\n",
              "├─────────────────────────────────┼────────────────────────┼───────────────┤\n",
              "│ max_pooling2d_30 (<span style=\"color: #0087ff; text-decoration-color: #0087ff\">MaxPooling2D</span>) │ (<span style=\"color: #00d7ff; text-decoration-color: #00d7ff\">None</span>, <span style=\"color: #00af00; text-decoration-color: #00af00\">13</span>, <span style=\"color: #00af00; text-decoration-color: #00af00\">13</span>, <span style=\"color: #00af00; text-decoration-color: #00af00\">32</span>)     │             <span style=\"color: #00af00; text-decoration-color: #00af00\">0</span> │\n",
              "├─────────────────────────────────┼────────────────────────┼───────────────┤\n",
              "│ conv2d_31 (<span style=\"color: #0087ff; text-decoration-color: #0087ff\">Conv2D</span>)              │ (<span style=\"color: #00d7ff; text-decoration-color: #00d7ff\">None</span>, <span style=\"color: #00af00; text-decoration-color: #00af00\">11</span>, <span style=\"color: #00af00; text-decoration-color: #00af00\">11</span>, <span style=\"color: #00af00; text-decoration-color: #00af00\">64</span>)     │        <span style=\"color: #00af00; text-decoration-color: #00af00\">18,496</span> │\n",
              "├─────────────────────────────────┼────────────────────────┼───────────────┤\n",
              "│ batch_normalization_1           │ (<span style=\"color: #00d7ff; text-decoration-color: #00d7ff\">None</span>, <span style=\"color: #00af00; text-decoration-color: #00af00\">11</span>, <span style=\"color: #00af00; text-decoration-color: #00af00\">11</span>, <span style=\"color: #00af00; text-decoration-color: #00af00\">64</span>)     │           <span style=\"color: #00af00; text-decoration-color: #00af00\">256</span> │\n",
              "│ (<span style=\"color: #0087ff; text-decoration-color: #0087ff\">BatchNormalization</span>)            │                        │               │\n",
              "├─────────────────────────────────┼────────────────────────┼───────────────┤\n",
              "│ max_pooling2d_31 (<span style=\"color: #0087ff; text-decoration-color: #0087ff\">MaxPooling2D</span>) │ (<span style=\"color: #00d7ff; text-decoration-color: #00d7ff\">None</span>, <span style=\"color: #00af00; text-decoration-color: #00af00\">5</span>, <span style=\"color: #00af00; text-decoration-color: #00af00\">5</span>, <span style=\"color: #00af00; text-decoration-color: #00af00\">64</span>)       │             <span style=\"color: #00af00; text-decoration-color: #00af00\">0</span> │\n",
              "├─────────────────────────────────┼────────────────────────┼───────────────┤\n",
              "│ conv2d_32 (<span style=\"color: #0087ff; text-decoration-color: #0087ff\">Conv2D</span>)              │ (<span style=\"color: #00d7ff; text-decoration-color: #00d7ff\">None</span>, <span style=\"color: #00af00; text-decoration-color: #00af00\">3</span>, <span style=\"color: #00af00; text-decoration-color: #00af00\">3</span>, <span style=\"color: #00af00; text-decoration-color: #00af00\">128</span>)      │        <span style=\"color: #00af00; text-decoration-color: #00af00\">73,856</span> │\n",
              "├─────────────────────────────────┼────────────────────────┼───────────────┤\n",
              "│ batch_normalization_2           │ (<span style=\"color: #00d7ff; text-decoration-color: #00d7ff\">None</span>, <span style=\"color: #00af00; text-decoration-color: #00af00\">3</span>, <span style=\"color: #00af00; text-decoration-color: #00af00\">3</span>, <span style=\"color: #00af00; text-decoration-color: #00af00\">128</span>)      │           <span style=\"color: #00af00; text-decoration-color: #00af00\">512</span> │\n",
              "│ (<span style=\"color: #0087ff; text-decoration-color: #0087ff\">BatchNormalization</span>)            │                        │               │\n",
              "├─────────────────────────────────┼────────────────────────┼───────────────┤\n",
              "│ max_pooling2d_32 (<span style=\"color: #0087ff; text-decoration-color: #0087ff\">MaxPooling2D</span>) │ (<span style=\"color: #00d7ff; text-decoration-color: #00d7ff\">None</span>, <span style=\"color: #00af00; text-decoration-color: #00af00\">1</span>, <span style=\"color: #00af00; text-decoration-color: #00af00\">1</span>, <span style=\"color: #00af00; text-decoration-color: #00af00\">128</span>)      │             <span style=\"color: #00af00; text-decoration-color: #00af00\">0</span> │\n",
              "├─────────────────────────────────┼────────────────────────┼───────────────┤\n",
              "│ flatten_18 (<span style=\"color: #0087ff; text-decoration-color: #0087ff\">Flatten</span>)            │ (<span style=\"color: #00d7ff; text-decoration-color: #00d7ff\">None</span>, <span style=\"color: #00af00; text-decoration-color: #00af00\">128</span>)            │             <span style=\"color: #00af00; text-decoration-color: #00af00\">0</span> │\n",
              "├─────────────────────────────────┼────────────────────────┼───────────────┤\n",
              "│ dense_36 (<span style=\"color: #0087ff; text-decoration-color: #0087ff\">Dense</span>)                │ (<span style=\"color: #00d7ff; text-decoration-color: #00d7ff\">None</span>, <span style=\"color: #00af00; text-decoration-color: #00af00\">128</span>)            │        <span style=\"color: #00af00; text-decoration-color: #00af00\">16,512</span> │\n",
              "├─────────────────────────────────┼────────────────────────┼───────────────┤\n",
              "│ dropout_3 (<span style=\"color: #0087ff; text-decoration-color: #0087ff\">Dropout</span>)             │ (<span style=\"color: #00d7ff; text-decoration-color: #00d7ff\">None</span>, <span style=\"color: #00af00; text-decoration-color: #00af00\">128</span>)            │             <span style=\"color: #00af00; text-decoration-color: #00af00\">0</span> │\n",
              "├─────────────────────────────────┼────────────────────────┼───────────────┤\n",
              "│ dense_37 (<span style=\"color: #0087ff; text-decoration-color: #0087ff\">Dense</span>)                │ (<span style=\"color: #00d7ff; text-decoration-color: #00d7ff\">None</span>, <span style=\"color: #00af00; text-decoration-color: #00af00\">2</span>)              │           <span style=\"color: #00af00; text-decoration-color: #00af00\">258</span> │\n",
              "└─────────────────────────────────┴────────────────────────┴───────────────┘\n",
              "</pre>\n"
            ]
          },
          "metadata": {}
        },
        {
          "output_type": "display_data",
          "data": {
            "text/plain": [
              "\u001b[1m Total params: \u001b[0m\u001b[38;5;34m110,338\u001b[0m (431.01 KB)\n"
            ],
            "text/html": [
              "<pre style=\"white-space:pre;overflow-x:auto;line-height:normal;font-family:Menlo,'DejaVu Sans Mono',consolas,'Courier New',monospace\"><span style=\"font-weight: bold\"> Total params: </span><span style=\"color: #00af00; text-decoration-color: #00af00\">110,338</span> (431.01 KB)\n",
              "</pre>\n"
            ]
          },
          "metadata": {}
        },
        {
          "output_type": "display_data",
          "data": {
            "text/plain": [
              "\u001b[1m Trainable params: \u001b[0m\u001b[38;5;34m109,890\u001b[0m (429.26 KB)\n"
            ],
            "text/html": [
              "<pre style=\"white-space:pre;overflow-x:auto;line-height:normal;font-family:Menlo,'DejaVu Sans Mono',consolas,'Courier New',monospace\"><span style=\"font-weight: bold\"> Trainable params: </span><span style=\"color: #00af00; text-decoration-color: #00af00\">109,890</span> (429.26 KB)\n",
              "</pre>\n"
            ]
          },
          "metadata": {}
        },
        {
          "output_type": "display_data",
          "data": {
            "text/plain": [
              "\u001b[1m Non-trainable params: \u001b[0m\u001b[38;5;34m448\u001b[0m (1.75 KB)\n"
            ],
            "text/html": [
              "<pre style=\"white-space:pre;overflow-x:auto;line-height:normal;font-family:Menlo,'DejaVu Sans Mono',consolas,'Courier New',monospace\"><span style=\"font-weight: bold\"> Non-trainable params: </span><span style=\"color: #00af00; text-decoration-color: #00af00\">448</span> (1.75 KB)\n",
              "</pre>\n"
            ]
          },
          "metadata": {}
        },
        {
          "output_type": "stream",
          "name": "stdout",
          "text": [
            "Epoch 1/10\n",
            "150/150 - 16s - 108ms/step - accuracy: 0.9395 - loss: 0.1627 - val_accuracy: 0.4975 - val_loss: 1.2524\n",
            "Epoch 2/10\n",
            "150/150 - 20s - 133ms/step - accuracy: 0.9709 - loss: 0.0825 - val_accuracy: 0.7792 - val_loss: 0.4250\n",
            "Epoch 3/10\n",
            "150/150 - 13s - 86ms/step - accuracy: 0.9799 - loss: 0.0544 - val_accuracy: 0.9025 - val_loss: 0.2293\n",
            "Epoch 4/10\n",
            "150/150 - 20s - 135ms/step - accuracy: 0.9876 - loss: 0.0375 - val_accuracy: 0.9767 - val_loss: 0.0627\n",
            "Epoch 5/10\n",
            "150/150 - 13s - 84ms/step - accuracy: 0.9899 - loss: 0.0282 - val_accuracy: 0.9758 - val_loss: 0.0821\n",
            "Epoch 6/10\n",
            "150/150 - 20s - 136ms/step - accuracy: 0.9925 - loss: 0.0221 - val_accuracy: 0.9787 - val_loss: 0.0837\n",
            "Epoch 7/10\n",
            "150/150 - 21s - 137ms/step - accuracy: 0.9943 - loss: 0.0167 - val_accuracy: 0.9800 - val_loss: 0.0969\n",
            "Epoch 8/10\n",
            "150/150 - 19s - 129ms/step - accuracy: 0.9950 - loss: 0.0184 - val_accuracy: 0.9567 - val_loss: 0.2139\n",
            "Epoch 9/10\n",
            "150/150 - 21s - 142ms/step - accuracy: 0.9941 - loss: 0.0156 - val_accuracy: 0.9792 - val_loss: 0.1137\n",
            "Epoch 10/10\n",
            "150/150 - 14s - 90ms/step - accuracy: 0.9961 - loss: 0.0101 - val_accuracy: 0.9804 - val_loss: 0.0880\n"
          ]
        }
      ]
    },
    {
      "cell_type": "code",
      "source": [
        "\n",
        "from sklearn.metrics import confusion_matrix\n",
        "import seaborn as sns\n",
        "import matplotlib.pyplot as plt\n",
        "\n",
        "# Hacer predicciones en el conjunto de prueba\n",
        "y_pred = model_03.predict(X_test_filtered)\n",
        "y_pred_classes = np.argmax(y_pred, axis=1)  # Obtener las clases predichas\n",
        "\n",
        "# Calcular la matriz de confusión\n",
        "cm = confusion_matrix(np.argmax(y_test_one_hot, axis=1), y_pred_classes)\n",
        "\n",
        "# Visualizar la matriz de confusión\n",
        "plt.figure(figsize=(6, 5))\n",
        "sns.heatmap(cm, annot=True, fmt='d', cmap='Blues', xticklabels=['Sandalias', 'Zapatillas'], yticklabels=['Sandalias', 'Zapatillas'])\n",
        "plt.xlabel('Predicción')\n",
        "plt.ylabel('Real')\n",
        "plt.title('Matriz de Confusión')\n",
        "plt.show()\n"
      ],
      "metadata": {
        "colab": {
          "base_uri": "https://localhost:8080/",
          "height": 505
        },
        "id": "2w7_Xdymx27R",
        "outputId": "5ea21aea-c776-41aa-974b-1c5a9dbf92c1"
      },
      "execution_count": 106,
      "outputs": [
        {
          "output_type": "stream",
          "name": "stdout",
          "text": [
            "\u001b[1m63/63\u001b[0m \u001b[32m━━━━━━━━━━━━━━━━━━━━\u001b[0m\u001b[37m\u001b[0m \u001b[1m2s\u001b[0m 23ms/step\n"
          ]
        },
        {
          "output_type": "display_data",
          "data": {
            "text/plain": [
              "<Figure size 600x500 with 2 Axes>"
            ],
            "image/png": "[encoded data removed]"
          },
          "metadata": {}
        }
      ]
    },
    {
      "cell_type": "code",
      "source": [],
      "metadata": {
        "id": "yb-ZmCaQ4ni8"
      },
      "execution_count": null,
      "outputs": []
    },
    {
      "cell_type": "code",
      "source": [
        "import numpy as np\n",
        "import matplotlib.pyplot as plt\n",
        "import seaborn as sns\n",
        "from sklearn.metrics import confusion_matrix, classification_report, accuracy_score, precision_score, recall_score, f1_score\n",
        "import pandas as pd\n",
        "\n",
        "# Primero corregir el mapeo de etiquetas para el conjunto de test\n",
        "class_mapping = {5: 0, 7: 1}\n",
        "y_test_mapped = np.array([class_mapping[label] for label in y_test_filtered])\n",
        "\n",
        "print(\"Verificación de etiquetas:\")\n",
        "print(f\"Etiquetas originales únicas en test: {np.unique(y_test_filtered)}\")\n",
        "print(f\"Etiquetas mapeadas únicas en test: {np.unique(y_test_mapped)}\")\n",
        "\n",
        "# Lista de modelos para comparar\n",
        "models = {\n",
        "    'Model_01': model_01,\n",
        "    'Model_02': model_02,\n",
        "    'Model_03': model_03\n",
        "}\n",
        "\n",
        "# Diccionario para almacenar resultados\n",
        "results = {}\n",
        "predictions = {}\n",
        "\n",
        "# Evaluar cada modelo\n",
        "for model_name, model in models.items():\n",
        "    print(f\"\\n{'='*50}\")\n",
        "    print(f\"Evaluando {model_name}\")\n",
        "    print(f\"{'='*50}\")\n",
        "\n",
        "    # Hacer predicciones\n",
        "    y_pred_proba = model.predict(X_test_filtered, verbose=0)\n",
        "    y_pred_labels = np.argmax(y_pred_proba, axis=1)\n",
        "\n",
        "    # Guardar predicciones\n",
        "    predictions[model_name] = y_pred_labels\n",
        "\n",
        "    # Calcular métricas\n",
        "    accuracy = accuracy_score(y_test_mapped, y_pred_labels)\n",
        "    precision = precision_score(y_test_mapped, y_pred_labels, average='weighted')\n",
        "    recall = recall_score(y_test_mapped, y_pred_labels, average='weighted')\n",
        "    f1 = f1_score(y_test_mapped, y_pred_labels, average='weighted')\n",
        "\n",
        "    # Guardar resultados\n",
        "    results[model_name] = {\n",
        "        'Accuracy': accuracy,\n",
        "        'Precision': precision,\n",
        "        'Recall': recall,\n",
        "        'F1-Score': f1\n",
        "    }\n",
        "\n",
        "    print(f\"Accuracy: {accuracy:.4f}\")\n",
        "    print(f\"Precision: {precision:.4f}\")\n",
        "    print(f\"Recall: {recall:.4f}\")\n",
        "    print(f\"F1-Score: {f1:.4f}\")\n",
        "\n",
        "    # Reporte detallado\n",
        "    print(\"\\nReporte de clasificación:\")\n",
        "    print(classification_report(y_test_mapped, y_pred_labels,\n",
        "                              target_names=[\"Sandalia\", \"Zapatilla\"]))\n",
        "\n",
        "# Crear DataFrame con los resultados para fácil comparación\n",
        "results_df = pd.DataFrame(results).T\n",
        "print(f\"\\n{'='*60}\")\n",
        "print(\"RESUMEN COMPARATIVO DE MODELOS\")\n",
        "print(f\"{'='*60}\")\n",
        "print(results_df.round(4))\n",
        "\n",
        "# Encontrar el mejor modelo para cada métrica\n",
        "print(f\"\\n{'='*40}\")\n",
        "print(\"MEJORES MODELOS POR MÉTRICA:\")\n",
        "print(f\"{'='*40}\")\n",
        "for metric in results_df.columns:\n",
        "    best_model = results_df[metric].idxmax()\n",
        "    best_score = results_df.loc[best_model, metric]\n",
        "    print(f\"{metric}: {best_model} ({best_score:.4f})\")\n",
        "\n",
        "# 2. Heatmap de métricas\n",
        "ax2 = axes[0, 1]\n",
        "sns.heatmap(results_df.T, annot=True, fmt='.3f', cmap='Blues', ax=ax2)\n",
        "ax2.set_title('Heatmap de Métricas')\n",
        "\n",
        "# Análisis de errores\n",
        "print(f\"\\n{'='*50}\")\n",
        "print(\"ANÁLISIS DE ERRORES\")\n",
        "print(f\"{'='*50}\")\n",
        "\n",
        "for model_name in models.keys():\n",
        "    y_pred_labels = predictions[model_name]\n",
        "\n",
        "    # Encontrar errores\n",
        "    errors = y_test_mapped != y_pred_labels\n",
        "    num_errors = np.sum(errors)\n",
        "\n",
        "    # Tipos de errores\n",
        "    false_positives = np.sum((y_test_mapped == 0) & (y_pred_labels == 1))\n",
        "    false_negatives = np.sum((y_test_mapped == 1) & (y_pred_labels == 0))\n",
        "\n",
        "    print(f\"\\n{model_name}:\")\n",
        "    print(f\"  Total de errores: {num_errors}/{len(y_test_mapped)} ({num_errors/len(y_test_mapped)*100:.2f}%)\")\n",
        "    print(f\"  Falsos positivos (Sandalia→Zapatilla): {false_positives}\")\n",
        "    print(f\"  Falsos negativos (Zapatilla→Sandalia): {false_negatives}\")\n",
        "\n",
        "# Guardar resultados en CSV (opcional)\n",
        "results_df.to_csv('model_comparison_results.csv')\n",
        "print(f\"\\nResultados guardados en 'model_comparison_results.csv'\")\n",
        "\n",
        "print(f\"\\n{'='*60}\")\n",
        "print(\"RECOMENDACIÓN:\")\n",
        "print(f\"{'='*60}\")\n",
        "best_overall = results_df.mean(axis=1).idxmax()\n",
        "print(f\"Modelo recomendado: {best_overall}\")\n",
        "print(f\"Score promedio: {results_df.loc[best_overall].mean():.4f}\")"
      ],
      "metadata": {
        "colab": {
          "base_uri": "https://localhost:8080/"
        },
        "id": "ML1Zk1sy4nlc",
        "outputId": "48694d83-9f23-4cb8-e095-23a06633861a"
      },
      "execution_count": 109,
      "outputs": [
        {
          "output_type": "stream",
          "name": "stdout",
          "text": [
            "Verificación de etiquetas:\n",
            "Etiquetas originales únicas en test: [5 7]\n",
            "Etiquetas mapeadas únicas en test: [0 1]\n",
            "\n",
            "==================================================\n",
            "Evaluando Model_01\n",
            "==================================================\n",
            "Accuracy: 0.9870\n",
            "Precision: 0.9870\n",
            "Recall: 0.9870\n",
            "F1-Score: 0.9870\n",
            "\n",
            "Reporte de clasificación:\n",
            "              precision    recall  f1-score   support\n",
            "\n",
            "    Sandalia       0.99      0.99      0.99      1000\n",
            "   Zapatilla       0.99      0.98      0.99      1000\n",
            "\n",
            "    accuracy                           0.99      2000\n",
            "   macro avg       0.99      0.99      0.99      2000\n",
            "weighted avg       0.99      0.99      0.99      2000\n",
            "\n",
            "\n",
            "==================================================\n",
            "Evaluando Model_02\n",
            "==================================================\n",
            "Accuracy: 0.9850\n",
            "Precision: 0.9850\n",
            "Recall: 0.9850\n",
            "F1-Score: 0.9850\n",
            "\n",
            "Reporte de clasificación:\n",
            "              precision    recall  f1-score   support\n",
            "\n",
            "    Sandalia       0.98      0.99      0.99      1000\n",
            "   Zapatilla       0.99      0.98      0.98      1000\n",
            "\n",
            "    accuracy                           0.98      2000\n",
            "   macro avg       0.99      0.98      0.98      2000\n",
            "weighted avg       0.99      0.98      0.98      2000\n",
            "\n",
            "\n",
            "==================================================\n",
            "Evaluando Model_03\n",
            "==================================================\n",
            "Accuracy: 0.9830\n",
            "Precision: 0.9830\n",
            "Recall: 0.9830\n",
            "F1-Score: 0.9830\n",
            "\n",
            "Reporte de clasificación:\n",
            "              precision    recall  f1-score   support\n",
            "\n",
            "    Sandalia       0.98      0.99      0.98      1000\n",
            "   Zapatilla       0.99      0.98      0.98      1000\n",
            "\n",
            "    accuracy                           0.98      2000\n",
            "   macro avg       0.98      0.98      0.98      2000\n",
            "weighted avg       0.98      0.98      0.98      2000\n",
            "\n",
            "\n",
            "============================================================\n",
            "RESUMEN COMPARATIVO DE MODELOS\n",
            "============================================================\n",
            "          Accuracy  Precision  Recall  F1-Score\n",
            "Model_01     0.987      0.987   0.987     0.987\n",
            "Model_02     0.985      0.985   0.985     0.985\n",
            "Model_03     0.983      0.983   0.983     0.983\n",
            "\n",
            "========================================\n",
            "MEJORES MODELOS POR MÉTRICA:\n",
            "========================================\n",
            "Accuracy: Model_01 (0.9870)\n",
            "Precision: Model_01 (0.9870)\n",
            "Recall: Model_01 (0.9870)\n",
            "F1-Score: Model_01 (0.9870)\n",
            "\n",
            "==================================================\n",
            "ANÁLISIS DE ERRORES\n",
            "==================================================\n",
            "\n",
            "Model_01:\n",
            "  Total de errores: 26/2000 (1.30%)\n",
            "  Falsos positivos (Sandalia→Zapatilla): 11\n",
            "  Falsos negativos (Zapatilla→Sandalia): 15\n",
            "\n",
            "Model_02:\n",
            "  Total de errores: 30/2000 (1.50%)\n",
            "  Falsos positivos (Sandalia→Zapatilla): 10\n",
            "  Falsos negativos (Zapatilla→Sandalia): 20\n",
            "\n",
            "Model_03:\n",
            "  Total de errores: 34/2000 (1.70%)\n",
            "  Falsos positivos (Sandalia→Zapatilla): 13\n",
            "  Falsos negativos (Zapatilla→Sandalia): 21\n",
            "\n",
            "Resultados guardados en 'model_comparison_results.csv'\n",
            "\n",
            "============================================================\n",
            "RECOMENDACIÓN:\n",
            "============================================================\n",
            "Modelo recomendado: Model_01\n",
            "Score promedio: 0.9870\n"
          ]
        }
      ]
    },
    {
      "cell_type": "code",
      "source": [
        "import numpy as np\n",
        "import matplotlib.pyplot as plt\n",
        "import seaborn as sns\n",
        "from sklearn.metrics import confusion_matrix, classification_report, accuracy_score, precision_score, recall_score, f1_score\n",
        "import pandas as pd\n",
        "\n",
        "print(\"=\"*60)\n",
        "print(\"EVALUACIÓN DEL MODEL_01 EN CONJUNTO DE TESTING\")\n",
        "print(\"=\"*60)\n",
        "\n",
        "# Verificar los datos de testing\n",
        "print(f\"Forma del conjunto de testing: {X_test_filtered.shape}\")\n",
        "print(f\"Etiquetas originales únicas: {np.unique(y_test_filtered)}\")\n",
        "print(f\"Distribución de clases en testing:\")\n",
        "unique, counts = np.unique(y_test_filtered, return_counts=True)\n",
        "for clase, count in zip(unique, counts):\n",
        "    clase_name = \"Sandalia\" if clase == 5 else \"Zapatilla\"\n",
        "    print(f\"  Clase {clase} ({clase_name}): {count} muestras\")\n",
        "\n",
        "# Mapear etiquetas de testing de {5,7} a {0,1}\n",
        "class_mapping = {5: 0, 7: 1}\n",
        "y_test_mapped = np.array([class_mapping[label] for label in y_test_filtered])\n",
        "\n",
        "print(f\"\\nEtiquetas después del mapeo: {np.unique(y_test_mapped)}\")\n",
        "print(f\"Mapeo aplicado: Sandalia(5)→0, Zapatilla(7)→1\")\n",
        "\n",
        "# Hacer predicciones con model_01\n",
        "print(f\"\\n{'='*40}\")\n",
        "print(\"REALIZANDO PREDICCIONES...\")\n",
        "print(f\"{'='*40}\")\n",
        "\n",
        "y_pred_proba = model_01.predict(X_test_filtered, verbose=1)\n",
        "y_pred_labels = np.argmax(y_pred_proba, axis=1)\n",
        "\n",
        "print(f\"Forma de las probabilidades predichas: {y_pred_proba.shape}\")\n",
        "print(f\"Predicciones únicas: {np.unique(y_pred_labels)}\")\n",
        "\n",
        "# Calcular métricas de rendimiento\n",
        "print(f\"\\n{'='*40}\")\n",
        "print(\"MÉTRICAS DE RENDIMIENTO\")\n",
        "print(f\"{'='*40}\")\n",
        "\n",
        "accuracy = accuracy_score(y_test_mapped, y_pred_labels)\n",
        "precision = precision_score(y_test_mapped, y_pred_labels, average='weighted')\n",
        "recall = recall_score(y_test_mapped, y_pred_labels, average='weighted')\n",
        "f1 = f1_score(y_test_mapped, y_pred_labels, average='weighted')\n",
        "\n",
        "print(f\"Accuracy:  {accuracy:.4f} ({accuracy*100:.2f}%)\")\n",
        "print(f\"Precision: {precision:.4f}\")\n",
        "print(f\"Recall:    {recall:.4f}\")\n",
        "print(f\"F1-Score:  {f1:.4f}\")\n",
        "\n",
        "# Reporte detallado por clase\n",
        "print(f\"\\n{'='*40}\")\n",
        "print(\"REPORTE DETALLADO POR CLASE\")\n",
        "print(f\"{'='*40}\")\n",
        "print(classification_report(y_test_mapped, y_pred_labels,\n",
        "                          target_names=[\"Sandalia\", \"Zapatilla\"]))\n",
        "\n",
        "# Matriz de confusión\n",
        "print(f\"\\n{'='*40}\")\n",
        "print(\"MATRIZ DE CONFUSIÓN\")\n",
        "print(f\"{'='*40}\")\n",
        "\n",
        "cm = confusion_matrix(y_test_mapped, y_pred_labels)\n",
        "print(\"Matriz de confusión:\")\n",
        "print(cm)\n",
        "\n",
        "# Visualización de la matriz de confusión\n",
        "plt.figure(figsize=(8, 6))\n",
        "sns.heatmap(cm, annot=True, fmt='d', cmap='Blues',\n",
        "           xticklabels=[\"Sandalia\", \"Zapatilla\"],\n",
        "           yticklabels=[\"Sandalia\", \"Zapatilla\"])\n",
        "plt.title('Matriz de Confusión - Model_01\\nConjunto de Testing', fontsize=14, fontweight='bold')\n",
        "plt.xlabel('Predicción')\n",
        "plt.ylabel('Real')\n",
        "plt.show()\n",
        "\n",
        "# Análisis de errores\n",
        "print(f\"\\n{'='*40}\")\n",
        "print(\"ANÁLISIS DETALLADO DE ERRORES\")\n",
        "print(f\"{'='*40}\")\n",
        "\n",
        "# Encontrar errores\n",
        "errors = y_test_mapped != y_pred_labels\n",
        "num_errors = np.sum(errors)\n",
        "total_samples = len(y_test_mapped)\n",
        "\n",
        "# Tipos de errores específicos\n",
        "true_positives = np.sum((y_test_mapped == 1) & (y_pred_labels == 1))\n",
        "true_negatives = np.sum((y_test_mapped == 0) & (y_pred_labels == 0))\n",
        "false_positives = np.sum((y_test_mapped == 0) & (y_pred_labels == 1))\n",
        "false_negatives = np.sum((y_test_mapped == 1) & (y_pred_labels == 0))\n",
        "\n",
        "print(f\"Total de muestras: {total_samples}\")\n",
        "print(f\"Predicciones correctas: {total_samples - num_errors} ({(total_samples - num_errors)/total_samples*100:.2f}%)\")\n",
        "print(f\"Predicciones incorrectas: {num_errors} ({num_errors/total_samples*100:.2f}%)\")\n",
        "print(f\"\\nDesglose detallado:\")\n",
        "print(f\"  Verdaderos Positivos (Zapatilla→Zapatilla): {true_positives}\")\n",
        "print(f\"  Verdaderos Negativos (Sandalia→Sandalia): {true_negatives}\")\n",
        "print(f\"  Falsos Positivos (Sandalia→Zapatilla): {false_positives}\")\n",
        "print(f\"  Falsos Negativos (Zapatilla→Sandalia): {false_negatives}\")\n",
        "\n",
        "# Resumen final\n",
        "print(f\"\\n{'='*60}\")\n",
        "print(\"RESUMEN FINAL - MODEL_01\")\n",
        "print(f\"{'='*60}\")\n",
        "print(f\"Rendimiento general: {'EXCELENTE' if accuracy > 0.95 else 'BUENO' if accuracy > 0.85 else 'REGULAR' if accuracy > 0.75 else 'NECESITA MEJORA'}\")\n",
        "print(f\"Accuracy: {accuracy:.4f} ({accuracy*100:.2f}%)\")\n",
        "print(f\"Total de errores: {num_errors}/{total_samples}\")\n",
        "print(f\"Confianza promedio: {np.mean(confidence_scores):.4f}\")\n",
        "\n",
        "if false_positives > false_negatives:\n",
        "    print(f\"Tendencia: El modelo tiende a clasificar sandalias como zapatillas\")\n",
        "elif false_negatives > false_positives:\n",
        "    print(f\"Tendencia: El modelo tiende a clasificar zapatillas como sandalias\")\n",
        "else:\n",
        "    print(f\"Tendencia: El modelo tiene errores balanceados entre ambas clases\")"
      ],
      "metadata": {
        "colab": {
          "base_uri": "https://localhost:8080/",
          "height": 1000
        },
        "id": "zGoPirIc64zE",
        "outputId": "9d7f6520-8707-479c-c393-809b428ff197"
      },
      "execution_count": 114,
      "outputs": [
        {
          "output_type": "stream",
          "name": "stdout",
          "text": [
            "============================================================\n",
            "EVALUACIÓN DEL MODEL_01 EN CONJUNTO DE TESTING\n",
            "============================================================\n",
            "Forma del conjunto de testing: (2000, 28, 28, 1)\n",
            "Etiquetas originales únicas: [5 7]\n",
            "Distribución de clases en testing:\n",
            "  Clase 5 (Sandalia): 1000 muestras\n",
            "  Clase 7 (Zapatilla): 1000 muestras\n",
            "\n",
            "Etiquetas después del mapeo: [0 1]\n",
            "Mapeo aplicado: Sandalia(5)→0, Zapatilla(7)→1\n",
            "\n",
            "========================================\n",
            "REALIZANDO PREDICCIONES...\n",
            "========================================\n",
            "\u001b[1m63/63\u001b[0m \u001b[32m━━━━━━━━━━━━━━━━━━━━\u001b[0m\u001b[37m\u001b[0m \u001b[1m1s\u001b[0m 20ms/step\n",
            "Forma de las probabilidades predichas: (2000, 2)\n",
            "Predicciones únicas: [0 1]\n",
            "\n",
            "========================================\n",
            "MÉTRICAS DE RENDIMIENTO\n",
            "========================================\n",
            "Accuracy:  0.9870 (98.70%)\n",
            "Precision: 0.9870\n",
            "Recall:    0.9870\n",
            "F1-Score:  0.9870\n",
            "\n",
            "========================================\n",
            "REPORTE DETALLADO POR CLASE\n",
            "========================================\n",
            "              precision    recall  f1-score   support\n",
            "\n",
            "    Sandalia       0.99      0.99      0.99      1000\n",
            "   Zapatilla       0.99      0.98      0.99      1000\n",
            "\n",
            "    accuracy                           0.99      2000\n",
            "   macro avg       0.99      0.99      0.99      2000\n",
            "weighted avg       0.99      0.99      0.99      2000\n",
            "\n",
            "\n",
            "========================================\n",
            "MATRIZ DE CONFUSIÓN\n",
            "========================================\n",
            "Matriz de confusión:\n",
            "[[989  11]\n",
            " [ 15 985]]\n"
          ]
        },
        {
          "output_type": "display_data",
          "data": {
            "text/plain": [
              "<Figure size 800x600 with 2 Axes>"
            ],
            "image/png": "[encoded data removed]"
          },
          "metadata": {}
        },
        {
          "output_type": "stream",
          "name": "stdout",
          "text": [
            "\n",
            "========================================\n",
            "ANÁLISIS DETALLADO DE ERRORES\n",
            "========================================\n",
            "Total de muestras: 2000\n",
            "Predicciones correctas: 1974 (98.70%)\n",
            "Predicciones incorrectas: 26 (1.30%)\n",
            "\n",
            "Desglose detallado:\n",
            "  Verdaderos Positivos (Zapatilla→Zapatilla): 985\n",
            "  Verdaderos Negativos (Sandalia→Sandalia): 989\n",
            "  Falsos Positivos (Sandalia→Zapatilla): 11\n",
            "  Falsos Negativos (Zapatilla→Sandalia): 15\n",
            "\n",
            "============================================================\n",
            "RESUMEN FINAL - MODEL_01\n",
            "============================================================\n",
            "Rendimiento general: EXCELENTE\n",
            "Accuracy: 0.9870 (98.70%)\n",
            "Total de errores: 26/2000\n",
            "Confianza promedio: 0.9948\n",
            "Tendencia: El modelo tiende a clasificar zapatillas como sandalias\n"
          ]
        }
      ]
    }
  ]
}